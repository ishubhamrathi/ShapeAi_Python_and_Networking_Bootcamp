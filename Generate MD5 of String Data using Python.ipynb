{
  "nbformat": 4,
  "nbformat_minor": 0,
  "metadata": {
    "colab": {
      "name": "Untitled1.ipynb",
      "provenance": [],
      "collapsed_sections": []
    },
    "kernelspec": {
      "name": "python3",
      "display_name": "Python 3"
    },
    "language_info": {
      "name": "python"
    }
  },
  "cells": [
    {
      "cell_type": "code",
      "metadata": {
        "id": "cacazGqA6Mg5"
      },
      "source": [
        "import hashlib"
      ],
      "execution_count": 1,
      "outputs": []
    },
    {
      "cell_type": "code",
      "metadata": {
        "colab": {
          "base_uri": "https://localhost:8080/"
        },
        "id": "a3rt9cb56Svl",
        "outputId": "695c32e0-b10d-44e4-bab6-c837dba34c00"
      },
      "source": [
        "result = hashlib.md5(b'ShapeAI')\n",
        "print(\"The byte equivalent of hash is : \", end =\"\")\n",
        "print(result.digest())"
      ],
      "execution_count": 5,
      "outputs": [
        {
          "output_type": "stream",
          "text": [
            "The byte equivalent of hash is : b'\\x05\\xa2\\xfa\\xed\\x9e%\\x87#6\\xdesI\\x14\\xc2\\x9e\\xcb'\n"
          ],
          "name": "stdout"
        }
      ]
    }
  ]
}